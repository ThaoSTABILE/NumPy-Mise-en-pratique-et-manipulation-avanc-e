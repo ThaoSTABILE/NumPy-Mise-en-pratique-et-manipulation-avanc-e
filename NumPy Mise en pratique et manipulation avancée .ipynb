{
 "cells": [
  {
   "cell_type": "markdown",
   "id": "c44db7ba",
   "metadata": {},
   "source": [
    "# NumPy : Mise en pratique et manipulation avancée\n",
    "\n",
    "Contexte\n",
    "\n",
    "Un supermarché souhaite extraire des informations des données dont elle dispose. Ces données sont stockées dans différents arrays sur lesquels vous allez travailler pour extraire des informations de base utiles à l'entreprise comme le chiffre d'affaires réalisé par l'entreprise.\n",
    "\n",
    "Vous disposez de 3 tableaux items, quantities et unit_price renseignant respectivement le nom des produits vendus, les quantités vendues et les prix de vente à l'unité. Ils ont chacun 25 éléments et les prix donnés sont en euro.\n",
    "\n"
   ]
  },
  {
   "cell_type": "code",
   "execution_count": 1,
   "id": "cb5bc85a",
   "metadata": {},
   "outputs": [
    {
     "data": {
      "text/plain": [
       "(array(['headphones', 'glass', 'pencils', 'flowers', 'bread', 'speakers',\n",
       "        'chocolate', 'fridge', 'bowl', 'shirt', 'vegetables', 'jeans',\n",
       "        'monitor', 'piano', 'crisps', 'clamp', 'air fresher', 'Toothbrush',\n",
       "        'knife', 'hanger', 'glue', 'bucket', 'vase', 'books',\n",
       "        'football shirt'], dtype='<U14'),\n",
       " array([210, 800, 550, 200, 820, 415, 500,  24, 230, 520,  12, 550,  32,\n",
       "         10, 950, 500, 757, 642, 873,  71, 456, 230, 115, 854,  63]),\n",
       " array([ 55,  10,   5,  20,   1,  70,  15, 500,  20,  10,  15,  25, 120,\n",
       "        500,  12,  18,  10,   3,  10,  12,   5,  20,  25,  14,  70]))"
      ]
     },
     "execution_count": 1,
     "metadata": {},
     "output_type": "execute_result"
    }
   ],
   "source": [
    "# Exécuter la cellule suivante.\n",
    "import numpy as np\n",
    "\n",
    "items = np.array([\"headphones\",\"glass\",\"pencils\",\"flowers\",\"bread\",\"speakers\",\"chocolate\",\n",
    "                  \"fridge\",\"bowl\",\"shirt\",\"vegetables\",\"jeans\",\"monitor\",\"piano\",\"crisps\",\"clamp\",\n",
    "                  \"air fresher\",\"Toothbrush\",\"knife\",\"hanger\",\"glue\",\"bucket\",\"vase\",\"books\",\n",
    "                  \"football shirt\"])\n",
    "\n",
    "quantities = np.array([210, 800, 550, 200, 820, 415, 500, 24, 230, 520, 12, 550, 32,\n",
    "                       10, 950, 500, 757, 642, 873,  71, 456, 230, 115, 854, 63])\n",
    "\n",
    "unit_price = np.array([55, 10, 5, 20, 1, 70, 15, 500, 20, 10, 15, 25, 120, 500, 12, 18, 10,\n",
    "                      3, 10, 12, 5, 20, 25, 14, 70])\n",
    "items, quantities, unit_price"
   ]
  },
  {
   "cell_type": "code",
   "execution_count": 2,
   "id": "7f51664c",
   "metadata": {},
   "outputs": [
    {
     "name": "stdout",
     "output_type": "stream",
     "text": [
      "[11550  8000  2750  4000   820 29050  7500 12000  4600  5200   180 13750\n",
      "  3840  5000 11400  9000  7570  1926  8730   852  2280  4600  2875 11956\n",
      "  4410]\n"
     ]
    }
   ],
   "source": [
    "# (a) Multiplier unit_price avec quantities pour obtenir pour chaque produit le chiffre d’affaires réalisé.\n",
    "# (b) Stocker le résultat dans une variable nommée ca_per_product\n",
    "\n",
    "ca_per_product = unit_price * quantities\n",
    "print(ca_per_product)"
   ]
  },
  {
   "cell_type": "code",
   "execution_count": 3,
   "id": "8f305940",
   "metadata": {},
   "outputs": [
    {
     "name": "stdout",
     "output_type": "stream",
     "text": [
      "speakers\n"
     ]
    }
   ],
   "source": [
    "# (c) Déterminer le produit sur lequel le magasin fait le plus gros chiffre d'affaires.\n",
    "\n",
    "print(items[ca_per_product.argmax()])"
   ]
  },
  {
   "cell_type": "code",
   "execution_count": 4,
   "id": "30cee58b",
   "metadata": {},
   "outputs": [
    {
     "name": "stdout",
     "output_type": "stream",
     "text": [
      "173839\n"
     ]
    }
   ],
   "source": [
    "# (d) Déterminer le chiffre d'affaires réalisé par le magasin.\n",
    "\n",
    "print(ca_per_product.sum())"
   ]
  },
  {
   "cell_type": "code",
   "execution_count": 5,
   "id": "50aa9ab4",
   "metadata": {},
   "outputs": [
    {
     "name": "stdout",
     "output_type": "stream",
     "text": [
      "415.36\n"
     ]
    }
   ],
   "source": [
    "# (e) Déterminer la quantité moyenne de produits vendus.\n",
    "\n",
    "print(quantities.mean())"
   ]
  },
  {
   "cell_type": "code",
   "execution_count": 6,
   "id": "46bb3a29",
   "metadata": {},
   "outputs": [
    {
     "name": "stdout",
     "output_type": "stream",
     "text": [
      "piano\n"
     ]
    }
   ],
   "source": [
    "# (f) Déterminer le produit qui a été le moins vendu par le magasin. \n",
    "\n",
    "print(items[quantities.argmin()])\n"
   ]
  },
  {
   "cell_type": "code",
   "execution_count": 7,
   "id": "73ca10d7",
   "metadata": {},
   "outputs": [
    {
     "name": "stdout",
     "output_type": "stream",
     "text": [
      "crisps\n"
     ]
    }
   ],
   "source": [
    "# (g) Déterminer le produit qui a été le plus vendu par le magasin.\n",
    "\n",
    "print(items[quantities.argmax()])"
   ]
  },
  {
   "cell_type": "code",
   "execution_count": 8,
   "id": "62a2c458",
   "metadata": {},
   "outputs": [
    {
     "name": "stdout",
     "output_type": "stream",
     "text": [
      "10384\n"
     ]
    }
   ],
   "source": [
    "# (h) Déterminer la quantité totale de produits vendus par le magasin.\n",
    "\n",
    "print(quantities.sum())  "
   ]
  },
  {
   "cell_type": "raw",
   "id": "d40f7b94",
   "metadata": {},
   "source": [
    "Le magasin souhaite faire un suivi sur les produits en segmentant par prix. Dans un premier temps il souhaite connaître le chiffre d’affaires obtenu pour les produits présentant un prix de vente compris entre 10 et 50 euros.\n"
   ]
  },
  {
   "cell_type": "code",
   "execution_count": 9,
   "id": "c8cb1401",
   "metadata": {},
   "outputs": [
    {
     "name": "stdout",
     "output_type": "stream",
     "text": [
      "[[210  55]\n",
      " [800  10]\n",
      " [550   5]\n",
      " [200  20]\n",
      " [820   1]\n",
      " [415  70]\n",
      " [500  15]\n",
      " [ 24 500]\n",
      " [230  20]\n",
      " [520  10]\n",
      " [ 12  15]\n",
      " [550  25]\n",
      " [ 32 120]\n",
      " [ 10 500]\n",
      " [950  12]\n",
      " [500  18]\n",
      " [757  10]\n",
      " [642   3]\n",
      " [873  10]\n",
      " [ 71  12]\n",
      " [456   5]\n",
      " [230  20]\n",
      " [115  25]\n",
      " [854  14]\n",
      " [ 63  70]]\n"
     ]
    }
   ],
   "source": [
    "# (i) Construire un tableau tab composé de deux colonnes contenant pour la première les quantités vendues et \n",
    "# la deuxième le prix de vente à l'unité.\n",
    "tab = np.array([quantities, unit_price]).T\n",
    "print(tab)"
   ]
  },
  {
   "cell_type": "code",
   "execution_count": 10,
   "id": "e54022b8",
   "metadata": {},
   "outputs": [
    {
     "name": "stdout",
     "output_type": "stream",
     "text": [
      "[[800  10]\n",
      " [200  20]\n",
      " [500  15]\n",
      " [230  20]\n",
      " [520  10]\n",
      " [ 12  15]\n",
      " [550  25]\n",
      " [950  12]\n",
      " [500  18]\n",
      " [757  10]\n",
      " [873  10]\n",
      " [ 71  12]\n",
      " [230  20]\n",
      " [115  25]\n",
      " [854  14]]\n"
     ]
    }
   ],
   "source": [
    "# (j) Ne garder dans tab que les prix supérieurs ou égaux à 10 euros et inférieurs ou égaux à 50 euros.\n",
    "tab = tab[(tab[:,1] >= 10) & (tab[:,1] <= 50)]\n",
    "print(tab)"
   ]
  },
  {
   "cell_type": "code",
   "execution_count": 11,
   "id": "2061fc3f",
   "metadata": {},
   "outputs": [
    {
     "name": "stdout",
     "output_type": "stream",
     "text": [
      "57.99999999999999 % du chiffre d'affaire est réalisé par ces produits\n"
     ]
    }
   ],
   "source": [
    "# (k) Déterminer le chiffre d'affaires obtenu sur les produits ayant un prix de vente compris entre 10 et 50 euros.\n",
    "# Stocker le résultat dans une variable ca.\n",
    "\n",
    "ca = (tab[:,0]*tab[:,1]).sum()\n",
    "print(round(ca/ca_per_product.sum(), 2)*100,\"% du chiffre d'affaire est réalisé par ces produits\")"
   ]
  },
  {
   "cell_type": "code",
   "execution_count": 12,
   "id": "add666db",
   "metadata": {},
   "outputs": [
    {
     "name": "stdout",
     "output_type": "stream",
     "text": [
      "57.99999999999999 % du chiffre d'affaire est réalisé par ces produits\n"
     ]
    }
   ],
   "source": [
    "# (l) Diviser le résultat par le chiffre d'affaires total que vous avez du calculer précédemment.\n",
    "\n",
    "TB = ca/ca_per_product.sum()\n",
    "\n",
    "print(round(TB, 2)*100,\"% du chiffre d'affaire est réalisé par ces produits\")"
   ]
  },
  {
   "cell_type": "code",
   "execution_count": 13,
   "id": "d40b5a89",
   "metadata": {},
   "outputs": [
    {
     "name": "stdout",
     "output_type": "stream",
     "text": [
      "38.0 % du chiffre d'affaire est réalisé par ces produits\n"
     ]
    }
   ],
   "source": [
    "# (m) Faire le même raisonnement sur les produits ayant des prix strictement supérieurs à 50 et inférieurs ou égaux à 500 euros.\n",
    "\n",
    "tab2 = np.array([quantities, unit_price]).T\n",
    "tab2 = tab2[(tab2[:,1] > 50) & (tab2[:,1] <= 500)]\n",
    "\n",
    "ca2 = (tab2[:,0]*tab2[:,1]).sum()\n",
    "\n",
    "print(round(ca2/ca_per_product.sum(), 2)*100,\"% du chiffre d'affaire est réalisé par ces produits\")"
   ]
  },
  {
   "cell_type": "code",
   "execution_count": 15,
   "id": "271b87b3",
   "metadata": {},
   "outputs": [],
   "source": [
    "# (n) Créer une fonction value_counts prenant un array comme paramètre \n",
    "# renvoyant les éléments uniques triés de cet array ainsi que leurs nombres d'occurrence.\n",
    "\n",
    "import numpy as np\n",
    "\n",
    "def value_counts(my_array):\n",
    "    values, counts = np.unique(my_array, return_counts = True)\n",
    "    return values, counts\n",
    "\n",
    "values, counts = value_counts(items)"
   ]
  },
  {
   "cell_type": "code",
   "execution_count": 16,
   "id": "1a29fe82",
   "metadata": {},
   "outputs": [
    {
     "name": "stdout",
     "output_type": "stream",
     "text": [
      "['Toothbrush' 'air fresher' 'books' 'bowl' 'bread' 'bucket' 'chocolate'\n",
      " 'clamp' 'crisps' 'flowers' 'football shirt' 'fridge' 'glass' 'glue'\n",
      " 'hanger' 'headphones' 'jeans' 'knife' 'monitor' 'pencils' 'piano' 'shirt'\n",
      " 'speakers' 'vase' 'vegetables']\n",
      "[1 1 1 1 1 1 1 1 1 1 1 1 1 1 1 1 1 1 1 1 1 1 1 1 1]\n"
     ]
    }
   ],
   "source": [
    "# (o) Afficher le résultat de la fonction appliquée sur items.\n",
    "\n",
    "print(values)\n",
    "print(counts)"
   ]
  },
  {
   "cell_type": "code",
   "execution_count": 17,
   "id": "3ed1b518",
   "metadata": {},
   "outputs": [
    {
     "name": "stdout",
     "output_type": "stream",
     "text": [
      "147632.5\n"
     ]
    }
   ],
   "source": [
    "# (p) En vous aidant du tableau promotions, déterminer et afficher le nouveau chiffre d’affaires réalisé par le magasin.\n",
    "promotions = np.array([0.75,0.75,1,0.5,1,0.9,0.8,0.75,1,1,1,1,0.6,0.7,0.5,\n",
    "                       0.8,1,1,1,1,0.9,0.75,1,1,1])\n",
    "\n",
    "new_ca_per_product = quantities * unit_price * promotions\n",
    "print(new_ca_per_product.sum())"
   ]
  }
 ],
 "metadata": {
  "kernelspec": {
   "display_name": "Python 3 (ipykernel)",
   "language": "python",
   "name": "python3"
  },
  "language_info": {
   "codemirror_mode": {
    "name": "ipython",
    "version": 3
   },
   "file_extension": ".py",
   "mimetype": "text/x-python",
   "name": "python",
   "nbconvert_exporter": "python",
   "pygments_lexer": "ipython3",
   "version": "3.9.7"
  }
 },
 "nbformat": 4,
 "nbformat_minor": 5
}
